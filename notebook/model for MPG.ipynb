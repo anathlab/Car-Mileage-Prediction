{
 "cells": [
  {
   "cell_type": "code",
   "execution_count": 1,
   "metadata": {},
   "outputs": [],
   "source": [
    "import pandas as pd\n",
    "import numpy as np\n",
    "from sklearn import pipeline,preprocessing,metrics,model_selection,ensemble\n",
    "from sklearn_pandas import DataFrameMapper\n",
    "import sklearn.impute\n",
    "from sklearn import impute\n",
    "from sklearn.impute import SimpleImputer"
   ]
  },
  {
   "cell_type": "code",
   "execution_count": 2,
   "metadata": {},
   "outputs": [],
   "source": [
    "data=pd.read_csv('../mpg_data_example.csv')"
   ]
  },
  {
   "cell_type": "code",
   "execution_count": 3,
   "metadata": {},
   "outputs": [
    {
     "data": {
      "text/html": [
       "<div>\n",
       "<style scoped>\n",
       "    .dataframe tbody tr th:only-of-type {\n",
       "        vertical-align: middle;\n",
       "    }\n",
       "\n",
       "    .dataframe tbody tr th {\n",
       "        vertical-align: top;\n",
       "    }\n",
       "\n",
       "    .dataframe thead th {\n",
       "        text-align: right;\n",
       "    }\n",
       "</style>\n",
       "<table border=\"1\" class=\"dataframe\">\n",
       "  <thead>\n",
       "    <tr style=\"text-align: right;\">\n",
       "      <th></th>\n",
       "      <th>mpg</th>\n",
       "      <th>cylinders</th>\n",
       "      <th>displacement</th>\n",
       "      <th>horsepower</th>\n",
       "      <th>weight</th>\n",
       "      <th>acceleration</th>\n",
       "      <th>model year</th>\n",
       "      <th>origin</th>\n",
       "      <th>car name</th>\n",
       "    </tr>\n",
       "  </thead>\n",
       "  <tbody>\n",
       "    <tr>\n",
       "      <th>0</th>\n",
       "      <td>18.0</td>\n",
       "      <td>8</td>\n",
       "      <td>307.0</td>\n",
       "      <td>130.0</td>\n",
       "      <td>3504</td>\n",
       "      <td>12.0</td>\n",
       "      <td>70</td>\n",
       "      <td>1</td>\n",
       "      <td>chevrolet chevelle malibu</td>\n",
       "    </tr>\n",
       "    <tr>\n",
       "      <th>1</th>\n",
       "      <td>15.0</td>\n",
       "      <td>8</td>\n",
       "      <td>350.0</td>\n",
       "      <td>165.0</td>\n",
       "      <td>3693</td>\n",
       "      <td>11.5</td>\n",
       "      <td>70</td>\n",
       "      <td>1</td>\n",
       "      <td>buick skylark 320</td>\n",
       "    </tr>\n",
       "    <tr>\n",
       "      <th>2</th>\n",
       "      <td>18.0</td>\n",
       "      <td>8</td>\n",
       "      <td>318.0</td>\n",
       "      <td>150.0</td>\n",
       "      <td>3436</td>\n",
       "      <td>11.0</td>\n",
       "      <td>70</td>\n",
       "      <td>1</td>\n",
       "      <td>plymouth satellite</td>\n",
       "    </tr>\n",
       "    <tr>\n",
       "      <th>3</th>\n",
       "      <td>16.0</td>\n",
       "      <td>8</td>\n",
       "      <td>304.0</td>\n",
       "      <td>150.0</td>\n",
       "      <td>3433</td>\n",
       "      <td>12.0</td>\n",
       "      <td>70</td>\n",
       "      <td>1</td>\n",
       "      <td>amc rebel sst</td>\n",
       "    </tr>\n",
       "    <tr>\n",
       "      <th>4</th>\n",
       "      <td>17.0</td>\n",
       "      <td>8</td>\n",
       "      <td>302.0</td>\n",
       "      <td>140.0</td>\n",
       "      <td>3449</td>\n",
       "      <td>10.5</td>\n",
       "      <td>70</td>\n",
       "      <td>1</td>\n",
       "      <td>ford torino</td>\n",
       "    </tr>\n",
       "  </tbody>\n",
       "</table>\n",
       "</div>"
      ],
      "text/plain": [
       "    mpg  cylinders  displacement  horsepower  weight  acceleration  \\\n",
       "0  18.0          8         307.0       130.0    3504          12.0   \n",
       "1  15.0          8         350.0       165.0    3693          11.5   \n",
       "2  18.0          8         318.0       150.0    3436          11.0   \n",
       "3  16.0          8         304.0       150.0    3433          12.0   \n",
       "4  17.0          8         302.0       140.0    3449          10.5   \n",
       "\n",
       "   model year  origin                   car name  \n",
       "0          70       1  chevrolet chevelle malibu  \n",
       "1          70       1          buick skylark 320  \n",
       "2          70       1         plymouth satellite  \n",
       "3          70       1              amc rebel sst  \n",
       "4          70       1                ford torino  "
      ]
     },
     "execution_count": 3,
     "metadata": {},
     "output_type": "execute_result"
    }
   ],
   "source": [
    "data.head()"
   ]
  },
  {
   "cell_type": "code",
   "execution_count": 4,
   "metadata": {},
   "outputs": [
    {
     "data": {
      "text/plain": [
       "mpg             0\n",
       "cylinders       0\n",
       "displacement    0\n",
       "horsepower      6\n",
       "weight          0\n",
       "acceleration    0\n",
       "model year      0\n",
       "origin          0\n",
       "car name        0\n",
       "dtype: int64"
      ]
     },
     "execution_count": 4,
     "metadata": {},
     "output_type": "execute_result"
    }
   ],
   "source": [
    "data.isnull().sum()"
   ]
  },
  {
   "cell_type": "code",
   "execution_count": 5,
   "metadata": {},
   "outputs": [],
   "source": [
    "imp = SimpleImputer(missing_values=np.nan, copy=False, strategy=\"mean\", )"
   ]
  },
  {
   "cell_type": "code",
   "execution_count": 6,
   "metadata": {},
   "outputs": [],
   "source": [
    "#Imputing Missing Values using the SimpleImputer Class in sklearn (horsepower)\n",
    "\n",
    "mapper = DataFrameMapper([\n",
    "                        (['cylinders','displacement','weight','acceleration','model year'], preprocessing.StandardScaler()),\n",
    "                        (['horsepower'],imp),\n",
    "                        (['origin'], preprocessing.OneHotEncoder())\n",
    "                        ])"
   ]
  },
  {
   "cell_type": "code",
   "execution_count": 7,
   "metadata": {},
   "outputs": [],
   "source": [
    "pipeline_obj = pipeline.Pipeline([\n",
    "    ('mapper',mapper),\n",
    "    (\"model\", ensemble.RandomForestRegressor())\n",
    "])"
   ]
  },
  {
   "cell_type": "code",
   "execution_count": 8,
   "metadata": {},
   "outputs": [
    {
     "data": {
      "text/plain": [
       "Index(['mpg', 'cylinders', 'displacement', 'horsepower', 'weight',\n",
       "       'acceleration', 'model year', 'origin', 'car name'],\n",
       "      dtype='object')"
      ]
     },
     "execution_count": 8,
     "metadata": {},
     "output_type": "execute_result"
    }
   ],
   "source": [
    "data.columns"
   ]
  },
  {
   "cell_type": "code",
   "execution_count": 9,
   "metadata": {},
   "outputs": [],
   "source": [
    "X=['cylinders', 'displacement', 'horsepower', 'weight',\n",
    "       'acceleration', 'model year', 'origin']\n",
    "Y=['mpg']"
   ]
  },
  {
   "cell_type": "code",
   "execution_count": 10,
   "metadata": {},
   "outputs": [
    {
     "name": "stderr",
     "output_type": "stream",
     "text": [
      "/Users/mumu/opt/anaconda3/lib/python3.9/site-packages/sklearn/utils/deprecation.py:87: FutureWarning: Function get_feature_names is deprecated; get_feature_names is deprecated in 1.0 and will be removed in 1.2. Please use get_feature_names_out instead.\n",
      "  warnings.warn(msg, category=FutureWarning)\n"
     ]
    },
    {
     "data": {
      "text/plain": [
       "Pipeline(steps=[('mapper',\n",
       "                 DataFrameMapper(drop_cols=[],\n",
       "                                 features=[(['cylinders', 'displacement',\n",
       "                                             'weight', 'acceleration',\n",
       "                                             'model year'],\n",
       "                                            StandardScaler()),\n",
       "                                           (['horsepower'],\n",
       "                                            SimpleImputer(copy=False)),\n",
       "                                           (['origin'], OneHotEncoder())])),\n",
       "                ('model', RandomForestRegressor())])"
      ]
     },
     "execution_count": 10,
     "metadata": {},
     "output_type": "execute_result"
    }
   ],
   "source": [
    "pipeline_obj.fit(data[X],data[Y].values.ravel())"
   ]
  },
  {
   "cell_type": "code",
   "execution_count": 11,
   "metadata": {},
   "outputs": [
    {
     "name": "stderr",
     "output_type": "stream",
     "text": [
      "/Users/mumu/opt/anaconda3/lib/python3.9/site-packages/sklearn/utils/deprecation.py:87: FutureWarning: Function get_feature_names is deprecated; get_feature_names is deprecated in 1.0 and will be removed in 1.2. Please use get_feature_names_out instead.\n",
      "  warnings.warn(msg, category=FutureWarning)\n"
     ]
    },
    {
     "data": {
      "text/plain": [
       "array([17.491, 15.036, 17.21 , 16.26 , 16.721, 14.7  , 14.05 , 14.25 ,\n",
       "       13.45 , 14.78 , 15.07 , 14.67 , 15.   , 14.54 , 23.84 , 21.71 ,\n",
       "       19.335, 21.078, 27.05 , 26.631, 24.472, 24.301, 24.725, 24.636,\n",
       "       20.922, 10.86 , 11.215, 11.715,  9.98 , 27.11 , 26.316, 24.966,\n",
       "       26.   , 19.329, 16.906, 17.46 , 18.49 , 18.319, 13.945, 13.68 ,\n",
       "       14.12 , 14.14 , 12.2  , 12.91 , 12.67 , 18.245, 22.105, 18.66 ,\n",
       "       18.085, 23.85 , 27.075, 29.6  , 29.08 , 31.321, 33.24 , 27.29 ,\n",
       "       27.05 , 24.371, 25.75 , 23.755, 20.385, 22.26 , 13.5  , 13.72 ,\n",
       "       14.66 , 14.035, 15.87 , 11.54 , 12.8  , 12.43 , 13.025, 20.561,\n",
       "       14.74 , 13.775, 13.47 , 14.04 , 19.19 , 22.625, 20.888, 26.01 ,\n",
       "       22.39 , 26.45 , 22.766, 27.325, 26.855, 13.41 , 14.57 , 13.55 ,\n",
       "       14.08 , 14.59 , 11.87 , 13.15 , 13.12 , 14.125, 12.42 , 12.11 ,\n",
       "       13.45 , 18.596, 16.425, 18.36 , 18.009, 21.885, 26.481, 11.53 ,\n",
       "       12.22 , 12.885, 12.255, 18.62 , 21.67 , 21.485, 23.049, 21.93 ,\n",
       "       20.19 , 21.354, 25.81 , 14.52 , 15.21 , 28.461, 24.74 , 21.777,\n",
       "       20.044, 15.409, 23.62 , 20.363, 12.32 , 20.146, 20.586, 19.325,\n",
       "       15.93 , 31.145, 25.145, 31.183, 24.715, 16.155, 16.12 , 17.848,\n",
       "       15.355, 13.335, 13.93 , 13.7  , 14.242, 27.495, 27.425, 26.179,\n",
       "       31.786, 31.755, 27.62 , 25.47 , 25.918, 24.005, 25.399, 29.945,\n",
       "       19.134, 17.656, 15.764, 16.049, 15.265, 14.965, 15.14 , 14.43 ,\n",
       "       17.219, 16.156, 15.542, 17.635, 20.396, 19.893, 14.88 , 28.375,\n",
       "       23.465, 19.665, 22.866, 24.003, 25.609, 24.077, 19.063, 28.805,\n",
       "       19.115, 23.368, 22.41 , 21.574, 24.272, 32.615, 26.741, 25.001,\n",
       "       24.876, 25.909, 27.37 , 16.595, 15.785, 16.121, 14.825, 21.427,\n",
       "       20.74 , 22.923, 21.399, 29.56 , 25.904, 29.05 , 32.63 , 19.464,\n",
       "       18.149, 18.467, 18.487, 29.   , 31.855, 28.225, 25.929, 20.165,\n",
       "       13.745, 19.931, 19.615, 17.112, 15.884, 13.895, 13.774, 13.358,\n",
       "       31.204, 29.631, 34.149, 25.648, 32.973, 16.611, 17.094, 15.69 ,\n",
       "       15.515, 17.892, 20.305, 18.985, 18.276, 15.805, 15.635, 15.669,\n",
       "       15.784, 29.595, 24.694, 26.477, 24.994, 30.554, 31.849, 30.495,\n",
       "       29.92 , 22.066, 22.612, 21.859, 40.134, 35.45 , 34.918, 36.943,\n",
       "       35.782, 19.918, 18.988, 19.47 , 19.196, 20.221, 20.587, 25.162,\n",
       "       20.115, 19.703, 20.619, 20.813, 18.892, 18.883, 19.057, 18.287,\n",
       "       18.617, 17.217, 30.385, 26.024, 26.56 , 30.128, 23.022, 23.275,\n",
       "       23.209, 24.288, 20.962, 17.623, 21.648, 16.875, 31.99 , 30.674,\n",
       "       21.304, 21.188, 23.81 , 20.376, 20.446, 17.36 , 17.979, 17.329,\n",
       "       17.758, 16.534, 16.005, 19.738, 17.661, 33.333, 34.302, 35.248,\n",
       "       27.98 , 25.525, 21.052, 27.933, 22.217, 35.079, 34.139, 34.084,\n",
       "       36.082, 28.087, 27.665, 26.025, 31.173, 38.285, 37.4  , 33.189,\n",
       "       37.038, 27.944, 26.049, 25.087, 20.019, 34.631, 29.884, 31.492,\n",
       "       34.849, 32.808, 43.428, 26.98 , 40.812, 43.574, 40.454, 33.439,\n",
       "       30.73 , 41.296, 38.965, 35.012, 32.566, 29.096, 28.7  , 33.664,\n",
       "       24.313, 32.609, 29.576, 27.329, 26.492, 24.439, 31.278, 38.422,\n",
       "       37.646, 35.977, 33.695, 36.744, 37.172, 33.994, 34.608, 34.327,\n",
       "       31.576, 33.819, 34.151, 33.864, 32.734, 31.58 , 31.217, 28.016,\n",
       "       28.337, 25.708, 24.938, 22.058, 25.137, 21.233, 19.882, 28.495,\n",
       "       27.666, 33.434, 30.135, 29.196, 27.11 , 24.902, 23.986, 35.591,\n",
       "       36.338, 33.265, 37.088, 35.632, 35.877, 35.33 , 33.609, 36.15 ,\n",
       "       33.416, 36.885, 24.989, 31.922, 27.152, 24.541, 30.486, 33.874,\n",
       "       26.3  , 26.955, 42.055, 32.492, 28.58 , 29.696])"
      ]
     },
     "execution_count": 11,
     "metadata": {},
     "output_type": "execute_result"
    }
   ],
   "source": [
    "pipeline_obj.predict(data[X])"
   ]
  },
  {
   "cell_type": "code",
   "execution_count": 12,
   "metadata": {},
   "outputs": [],
   "source": [
    "import joblib"
   ]
  },
  {
   "cell_type": "code",
   "execution_count": 13,
   "metadata": {},
   "outputs": [
    {
     "data": {
      "text/plain": [
       "['RFModelforMPG.pkl']"
      ]
     },
     "execution_count": 13,
     "metadata": {},
     "output_type": "execute_result"
    }
   ],
   "source": [
    "joblib.dump(pipeline_obj,'RFModelforMPG.pkl')"
   ]
  },
  {
   "cell_type": "code",
   "execution_count": 14,
   "metadata": {},
   "outputs": [],
   "source": [
    "modelReload=joblib.load('RFModelforMPG.pkl')"
   ]
  },
  {
   "cell_type": "code",
   "execution_count": 15,
   "metadata": {},
   "outputs": [
    {
     "name": "stderr",
     "output_type": "stream",
     "text": [
      "/Users/mumu/opt/anaconda3/lib/python3.9/site-packages/sklearn/utils/deprecation.py:87: FutureWarning: Function get_feature_names is deprecated; get_feature_names is deprecated in 1.0 and will be removed in 1.2. Please use get_feature_names_out instead.\n",
      "  warnings.warn(msg, category=FutureWarning)\n"
     ]
    },
    {
     "data": {
      "text/plain": [
       "array([17.491, 15.036, 17.21 , 16.26 , 16.721, 14.7  , 14.05 , 14.25 ,\n",
       "       13.45 , 14.78 , 15.07 , 14.67 , 15.   , 14.54 , 23.84 , 21.71 ,\n",
       "       19.335, 21.078, 27.05 , 26.631, 24.472, 24.301, 24.725, 24.636,\n",
       "       20.922, 10.86 , 11.215, 11.715,  9.98 , 27.11 , 26.316, 24.966,\n",
       "       26.   , 19.329, 16.906, 17.46 , 18.49 , 18.319, 13.945, 13.68 ,\n",
       "       14.12 , 14.14 , 12.2  , 12.91 , 12.67 , 18.245, 22.105, 18.66 ,\n",
       "       18.085, 23.85 , 27.075, 29.6  , 29.08 , 31.321, 33.24 , 27.29 ,\n",
       "       27.05 , 24.371, 25.75 , 23.755, 20.385, 22.26 , 13.5  , 13.72 ,\n",
       "       14.66 , 14.035, 15.87 , 11.54 , 12.8  , 12.43 , 13.025, 20.561,\n",
       "       14.74 , 13.775, 13.47 , 14.04 , 19.19 , 22.625, 20.888, 26.01 ,\n",
       "       22.39 , 26.45 , 22.766, 27.325, 26.855, 13.41 , 14.57 , 13.55 ,\n",
       "       14.08 , 14.59 , 11.87 , 13.15 , 13.12 , 14.125, 12.42 , 12.11 ,\n",
       "       13.45 , 18.596, 16.425, 18.36 , 18.009, 21.885, 26.481, 11.53 ,\n",
       "       12.22 , 12.885, 12.255, 18.62 , 21.67 , 21.485, 23.049, 21.93 ,\n",
       "       20.19 , 21.354, 25.81 , 14.52 , 15.21 , 28.461, 24.74 , 21.777,\n",
       "       20.044, 15.409, 23.62 , 20.363, 12.32 , 20.146, 20.586, 19.325,\n",
       "       15.93 , 31.145, 25.145, 31.183, 24.715, 16.155, 16.12 , 17.848,\n",
       "       15.355, 13.335, 13.93 , 13.7  , 14.242, 27.495, 27.425, 26.179,\n",
       "       31.786, 31.755, 27.62 , 25.47 , 25.918, 24.005, 25.399, 29.945,\n",
       "       19.134, 17.656, 15.764, 16.049, 15.265, 14.965, 15.14 , 14.43 ,\n",
       "       17.219, 16.156, 15.542, 17.635, 20.396, 19.893, 14.88 , 28.375,\n",
       "       23.465, 19.665, 22.866, 24.003, 25.609, 24.077, 19.063, 28.805,\n",
       "       19.115, 23.368, 22.41 , 21.574, 24.272, 32.615, 26.741, 25.001,\n",
       "       24.876, 25.909, 27.37 , 16.595, 15.785, 16.121, 14.825, 21.427,\n",
       "       20.74 , 22.923, 21.399, 29.56 , 25.904, 29.05 , 32.63 , 19.464,\n",
       "       18.149, 18.467, 18.487, 29.   , 31.855, 28.225, 25.929, 20.165,\n",
       "       13.745, 19.931, 19.615, 17.112, 15.884, 13.895, 13.774, 13.358,\n",
       "       31.204, 29.631, 34.149, 25.648, 32.973, 16.611, 17.094, 15.69 ,\n",
       "       15.515, 17.892, 20.305, 18.985, 18.276, 15.805, 15.635, 15.669,\n",
       "       15.784, 29.595, 24.694, 26.477, 24.994, 30.554, 31.849, 30.495,\n",
       "       29.92 , 22.066, 22.612, 21.859, 40.134, 35.45 , 34.918, 36.943,\n",
       "       35.782, 19.918, 18.988, 19.47 , 19.196, 20.221, 20.587, 25.162,\n",
       "       20.115, 19.703, 20.619, 20.813, 18.892, 18.883, 19.057, 18.287,\n",
       "       18.617, 17.217, 30.385, 26.024, 26.56 , 30.128, 23.022, 23.275,\n",
       "       23.209, 24.288, 20.962, 17.623, 21.648, 16.875, 31.99 , 30.674,\n",
       "       21.304, 21.188, 23.81 , 20.376, 20.446, 17.36 , 17.979, 17.329,\n",
       "       17.758, 16.534, 16.005, 19.738, 17.661, 33.333, 34.302, 35.248,\n",
       "       27.98 , 25.525, 21.052, 27.933, 22.217, 35.079, 34.139, 34.084,\n",
       "       36.082, 28.087, 27.665, 26.025, 31.173, 38.285, 37.4  , 33.189,\n",
       "       37.038, 27.944, 26.049, 25.087, 20.019, 34.631, 29.884, 31.492,\n",
       "       34.849, 32.808, 43.428, 26.98 , 40.812, 43.574, 40.454, 33.439,\n",
       "       30.73 , 41.296, 38.965, 35.012, 32.566, 29.096, 28.7  , 33.664,\n",
       "       24.313, 32.609, 29.576, 27.329, 26.492, 24.439, 31.278, 38.422,\n",
       "       37.646, 35.977, 33.695, 36.744, 37.172, 33.994, 34.608, 34.327,\n",
       "       31.576, 33.819, 34.151, 33.864, 32.734, 31.58 , 31.217, 28.016,\n",
       "       28.337, 25.708, 24.938, 22.058, 25.137, 21.233, 19.882, 28.495,\n",
       "       27.666, 33.434, 30.135, 29.196, 27.11 , 24.902, 23.986, 35.591,\n",
       "       36.338, 33.265, 37.088, 35.632, 35.877, 35.33 , 33.609, 36.15 ,\n",
       "       33.416, 36.885, 24.989, 31.922, 27.152, 24.541, 30.486, 33.874,\n",
       "       26.3  , 26.955, 42.055, 32.492, 28.58 , 29.696])"
      ]
     },
     "execution_count": 15,
     "metadata": {},
     "output_type": "execute_result"
    }
   ],
   "source": [
    "modelReload.predict(data[X])"
   ]
  },
  {
   "cell_type": "code",
   "execution_count": 16,
   "metadata": {},
   "outputs": [],
   "source": [
    "temp={}\n",
    "temp['cylinders']=1\n",
    "temp['displacement']=2\n",
    "temp['horsepower']=3\n",
    "temp['weight']=4\n",
    "temp['acceleration']=5\n",
    "temp['model year']=6\n",
    "temp['origin']=1"
   ]
  },
  {
   "cell_type": "code",
   "execution_count": 17,
   "metadata": {},
   "outputs": [],
   "source": [
    "testData=pd.DataFrame({'x':temp}).transpose()"
   ]
  },
  {
   "cell_type": "code",
   "execution_count": 18,
   "metadata": {},
   "outputs": [
    {
     "data": {
      "text/html": [
       "<div>\n",
       "<style scoped>\n",
       "    .dataframe tbody tr th:only-of-type {\n",
       "        vertical-align: middle;\n",
       "    }\n",
       "\n",
       "    .dataframe tbody tr th {\n",
       "        vertical-align: top;\n",
       "    }\n",
       "\n",
       "    .dataframe thead th {\n",
       "        text-align: right;\n",
       "    }\n",
       "</style>\n",
       "<table border=\"1\" class=\"dataframe\">\n",
       "  <thead>\n",
       "    <tr style=\"text-align: right;\">\n",
       "      <th></th>\n",
       "      <th>acceleration</th>\n",
       "      <th>cylinders</th>\n",
       "      <th>displacement</th>\n",
       "      <th>horsepower</th>\n",
       "      <th>model year</th>\n",
       "      <th>origin</th>\n",
       "      <th>weight</th>\n",
       "    </tr>\n",
       "  </thead>\n",
       "  <tbody>\n",
       "    <tr>\n",
       "      <th>x</th>\n",
       "      <td>5</td>\n",
       "      <td>1</td>\n",
       "      <td>2</td>\n",
       "      <td>3</td>\n",
       "      <td>6</td>\n",
       "      <td>1</td>\n",
       "      <td>4</td>\n",
       "    </tr>\n",
       "  </tbody>\n",
       "</table>\n",
       "</div>"
      ],
      "text/plain": [
       "   acceleration  cylinders  displacement  horsepower  model year  origin  \\\n",
       "x             5          1             2           3           6       1   \n",
       "\n",
       "   weight  \n",
       "x       4  "
      ]
     },
     "execution_count": 18,
     "metadata": {},
     "output_type": "execute_result"
    }
   ],
   "source": [
    "testData"
   ]
  },
  {
   "cell_type": "code",
   "execution_count": 19,
   "metadata": {},
   "outputs": [
    {
     "name": "stderr",
     "output_type": "stream",
     "text": [
      "/Users/mumu/opt/anaconda3/lib/python3.9/site-packages/sklearn/utils/deprecation.py:87: FutureWarning: Function get_feature_names is deprecated; get_feature_names is deprecated in 1.0 and will be removed in 1.2. Please use get_feature_names_out instead.\n",
      "  warnings.warn(msg, category=FutureWarning)\n"
     ]
    },
    {
     "data": {
      "text/plain": [
       "28.511"
      ]
     },
     "execution_count": 19,
     "metadata": {},
     "output_type": "execute_result"
    }
   ],
   "source": [
    "modelReload.predict(testData)[0]"
   ]
  }
 ],
 "metadata": {
  "kernelspec": {
   "display_name": "Python 3 (ipykernel)",
   "language": "python",
   "name": "python3"
  },
  "language_info": {
   "codemirror_mode": {
    "name": "ipython",
    "version": 3
   },
   "file_extension": ".py",
   "mimetype": "text/x-python",
   "name": "python",
   "nbconvert_exporter": "python",
   "pygments_lexer": "ipython3",
   "version": "3.9.7"
  }
 },
 "nbformat": 4,
 "nbformat_minor": 2
}
